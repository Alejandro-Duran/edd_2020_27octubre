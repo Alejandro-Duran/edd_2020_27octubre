{
  "nbformat": 4,
  "nbformat_minor": 0,
  "metadata": {
    "colab": {
      "name": "27octubre2020.ipynb",
      "provenance": [],
      "authorship_tag": "ABX9TyMlS4Iatb2ON9YZeQ2dXQ1K",
      "include_colab_link": true
    },
    "kernelspec": {
      "name": "python3",
      "display_name": "Python 3"
    }
  },
  "cells": [
    {
      "cell_type": "markdown",
      "metadata": {
        "id": "view-in-github",
        "colab_type": "text"
      },
      "source": [
        "<a href=\"https://colab.research.google.com/github/Alejandro-Duran/edd_2020_27octubre/blob/main/27octubre2020.ipynb\" target=\"_parent\"><img src=\"https://colab.research.google.com/assets/colab-badge.svg\" alt=\"Open In Colab\"/></a>"
      ]
    },
    {
      "cell_type": "code",
      "metadata": {
        "id": "lSfma2-tCPUU"
      },
      "source": [
        "class Computadora:\n",
        "    def __init__( self , m , p):\n",
        "        self.__marca = m\n",
        "        self.__procesador = p\n",
        "\n",
        "    def to_string( self ):\n",
        "        return \"MArca:\"+self.__marca+\" Procesador:\"+self.__procesador\n",
        "\n",
        "    def set_marca(self, m):\n",
        "      self.__marca = m\n",
        "\n",
        "    def get_marca(self):\n",
        "      return self.__marca\n",
        "\n",
        "    def set_procesador(self, p):\n",
        "      self.__procesador=p\n",
        "\n",
        "    def get_procesador(self):\n",
        "      return self.__procesador\n",
        "\n",
        "mi_pc = Computadora(\"Toshiba\",\"Intel i7\")\n",
        "print(mi_pc.to_string())\n",
        "mi_pc.__marca=\"HP \"#intentndo cambiar valor privado, lo cual no se puede\n",
        "mi_pc.set_marca(\"HP co\")\n",
        "print(mi_pc.to_string())\n",
        "print(mi_pc.get_procesador())"
      ],
      "execution_count": null,
      "outputs": []
    },
    {
      "cell_type": "markdown",
      "metadata": {
        "id": "mG2tsHr4Ec_k"
      },
      "source": [
        "#Encapsulamiento python 3\n",
        "##Tradicional tipo java\n",
        "  void setAtrubuto(valor)\n",
        "  \n",
        "  tipo getAtributo( )"
      ]
    },
    {
      "cell_type": "markdown",
      "metadata": {
        "id": "yj7majjbH2Ed"
      },
      "source": [
        "#Estilo python 3\n",
        "\n",
        "Utilizando decoradores\n",
        "\n",
        "  -@property\n",
        "\n",
        "  -@atributo.setter"
      ]
    },
    {
      "cell_type": "code",
      "metadata": {
        "id": "29S_ELp5H_mE"
      },
      "source": [
        "class Computadora:\n",
        "  def __init__(self, m,p):\n",
        "    self.marca = m #se manda llamar el decorador @property\n",
        "    self.procesador = p #idem\n",
        "\n",
        "  @property #declara como atributo privado y funcionacomo metodo get\n",
        "  def marca (self):\n",
        "    return self.__marca\n",
        "\n",
        "  @marca.setter\n",
        "  def marca(self,m):\n",
        "    print(\"En el setter de marca\")\n",
        "    self.__marca=m\n",
        "\n",
        "  @property\n",
        "  def procesador(self):\n",
        "    return self.__procesador\n",
        "\n",
        "  @procesador.setter\n",
        "  def procesador(self,p):\n",
        "    print (\"En el metodo set de procesador\")\n",
        "    self.__procesador=p\n",
        "\n",
        "  def to_string(self):\n",
        "    return \"marca: \"+self.marca+\" Procesador: \"+self.procesador\n",
        "\n",
        "mi_pc2 = Computadora(\"Mac Book Pro\",\"Intel i7\")\n",
        "print(mi_pc2.to_string())\n",
        "mi_pc2.marca=\"Dell\"\n",
        "print(mi_pc2.to_string())"
      ],
      "execution_count": null,
      "outputs": []
    },
    {
      "cell_type": "code",
      "metadata": {
        "id": "Jr2q1JTIQnCz"
      },
      "source": [
        "#Herencia, pasando, la clase base a la declaración\n",
        "class ServidorEmpresarial(Computadora):\n",
        "  def __init__(self):\n",
        "    print(\"Hola servidor\")\n",
        "\n",
        "server = ServidorEmpresarial()\n",
        "server.marca = \"Sun Micro Systems\"\n",
        "server.procesador=\"Intel i7\"\n",
        "print(server.to_string())"
      ],
      "execution_count": null,
      "outputs": []
    }
  ]
}